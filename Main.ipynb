{
 "cells": [
  {
   "cell_type": "code",
   "execution_count": 2,
   "metadata": {
    "collapsed": true
   },
   "outputs": [],
   "source": [
    "import numpy as np\n",
    "\n",
    "class LinearRegression():\n",
    "    def __init__(self, regresor, response, has_bias = False, regularizer = None):\n",
    "        if (regresor.ndim != 2) or (regresor.size == 0):\n",
    "            raise ValueError(\"regresor should be a non-empty numpy matrix\")\n",
    "        elif (response.ndim != 2) or (response.size == 0):\n",
    "            raise ValueError(\"response should be a non-empty numpy matrix\")\n",
    "        elif len(regresor) != len(response):\n",
    "            raise ValueError(\"len(regresor) != len(response)\")\n",
    "        \n",
    "        self.has_bias = has_bias\n",
    "        if self.has_bias:\n",
    "            self.regresor = np.append(regresor, np.ones((len(regresor), 1)), axis=1)\n",
    "        else:\n",
    "            self.regresor = regresor\n",
    "        \n",
    "        self.response = response\n",
    "        self.regularizer = regularizer"
   ]
  }
 ],
 "metadata": {
  "kernelspec": {
   "display_name": "Python 3",
   "language": "python",
   "name": "python3"
  },
  "language_info": {
   "codemirror_mode": {
    "name": "ipython",
    "version": 3
   },
   "file_extension": ".py",
   "mimetype": "text/x-python",
   "name": "python",
   "nbconvert_exporter": "python",
   "pygments_lexer": "ipython3",
   "version": "3.6.4"
  }
 },
 "nbformat": 4,
 "nbformat_minor": 2
}
