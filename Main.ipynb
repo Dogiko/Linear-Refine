{
 "cells": [
  {
   "cell_type": "code",
   "execution_count": 1,
   "metadata": {
    "collapsed": true
   },
   "outputs": [],
   "source": [
    "import numpy as np\n",
    "\n",
    "def Lstsq(regressor, response):\n",
    "    # use numpy.linalg.lstsq\n",
    "    # modify residual and singular value, eliminate the effect caused by data size\n",
    "    if regressor.shape[0] <= regressor.shape[1]:\n",
    "        raise ValueError(\"regressor size error, datums <= variables\")\n",
    "    \n",
    "    output = np.linalg.lstsq(regressor, response, rcond=-1)\n",
    "    output[1] /= regressor.shape[0] - regressor.shape[1]\n",
    "    output[3] /= np.sqrt(regressor.shape[0]-1)\n",
    "    return output\n",
    "\n",
    "class LinearRegression():\n",
    "    def __init__(self, regressor, response, has_bias = False, regularizer = None):\n",
    "        if (regressor.ndim != 2) or (regressor.size == 0):\n",
    "            raise ValueError(\"regressor should be a non-empty numpy matrix\")\n",
    "        elif (response.ndim != 2) or (response.size == 0):\n",
    "            raise ValueError(\"response should be a non-empty numpy matrix\")\n",
    "        elif len(regressor) != len(response):\n",
    "            raise ValueError(\"len(regressor) != len(response)\")\n",
    "        \n",
    "        self.has_bias = has_bias\n",
    "        if self.has_bias:\n",
    "            self.regressor = np.append(regressor, np.ones((len(regressor), 1)), axis=1)\n",
    "        else:\n",
    "            self.regressor = regressor\n",
    "        \n",
    "        self.response = response\n",
    "        self.regularizer = regularizer\n",
    "    \n",
    "    def MostUselesscAnalysis(self):\n",
    "        gramian = np.dot(self.regressor.T, self.regressor) + self.regularizer * np.identity(regressor.shape[1])\n",
    "        "
   ]
  }
 ],
 "metadata": {
  "kernelspec": {
   "display_name": "Python 3",
   "language": "python",
   "name": "python3"
  },
  "language_info": {
   "codemirror_mode": {
    "name": "ipython",
    "version": 3
   },
   "file_extension": ".py",
   "mimetype": "text/x-python",
   "name": "python",
   "nbconvert_exporter": "python",
   "pygments_lexer": "ipython3",
   "version": "3.6.4"
  }
 },
 "nbformat": 4,
 "nbformat_minor": 2
}
