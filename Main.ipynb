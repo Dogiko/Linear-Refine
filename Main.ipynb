{
 "cells": [
  {
   "cell_type": "code",
   "execution_count": 3,
   "metadata": {
    "collapsed": true
   },
   "outputs": [],
   "source": [
    "import numpy as np\n",
    "\n",
    "def least_square(regressor, response):\n",
    "    # use numpy.linalg.lstsq\n",
    "    # modify residual and singular value, eliminate the effect caused by data size\n",
    "    if regressor.shape[0] <= regressor.shape[1]:\n",
    "        raise ValueError(\"regressor size error, #datums <= #variables\")\n",
    "    \n",
    "    coe, res, rank, singular_value = np.linalg.lstsq(regressor, response, rcond=-1)\n",
    "    rms = res / (regressor.shape[0] - regressor.shape[1]) # residual mean square\n",
    "    return coe, rms, rank, singular_value\n",
    "\n",
    "def pcvar(data):\n",
    "    # data : numpy matrix\n",
    "    # return Variance of each principal component\n",
    "    if data.shape[0] < 2:\n",
    "        raise ValueError(\"data size error, variance of single datum is meaningless\")\n",
    "    \n",
    "    data -= data.mean(axis=0)\n",
    "    output = np.linalg.eigvalsh(np.dot(data.T, data))[::-1]/(data.shape[0] - 1)\n",
    "    return output\n",
    "\n",
    "class LinearRegression():\n",
    "    def __init__(self, regressor, response, has_bias = True, regularizer = 10**-6):\n",
    "        self.set_data(regressor, response, has_bias)\n",
    "        self.set_regularizer(regularizer)\n",
    "    \n",
    "    def set_data(self, regressor, response, has_bias):\n",
    "        if (regressor.ndim != 2) or (regressor.size == 0):\n",
    "            raise ValueError(\"regressor should be a non-empty numpy matrix\")\n",
    "        elif (response.ndim != 2) or (response.size == 0):\n",
    "            raise ValueError(\"response should be a non-empty numpy matrix\")\n",
    "        elif len(regressor) != len(response):\n",
    "            raise ValueError(\"len(regressor) != len(response)\")\n",
    "        \n",
    "        self.num_var = regressor.shape[1]\n",
    "        self.has_bias = has_bias\n",
    "        if self.has_bias:\n",
    "            self.regressor = np.append(regressor, np.ones((len(regressor), 1)), axis=1)\n",
    "        else:\n",
    "            self.regressor = regressor\n",
    "        \n",
    "        self.response = response\n",
    "    \n",
    "    def set_regularizer(self, regularizer):\n",
    "        if regularizer < 0.:\n",
    "            self.regularizer = 0.\n",
    "            print(\"set_regularizer error, regularizer must be non-negative, has been set to zero.\")\n",
    "        else:\n",
    "            self.regularizer = regularizer\n",
    "    \n",
    "    def most_useless_analysis(self, drop=1):\n",
    "        gram = np.dot(self.regressor.T, self.regressor)\n",
    "        gram += self.regularizer * self.regressor.shape[0] * np.identity(self.regressor.shape[1])\n",
    "        projected = np.dot(self.regressor.T, self.response)\n",
    "        is_leave = np.ones((gram.shape[0]), dtype=bool)\n",
    "        response_square = np.square(self.response).sum(axis=0)\n",
    "        for d in range(drop):\n",
    "            square_err = np.inf * np.ones((gram.shape[0]), dtype=bool)\n",
    "            for i in range(self.num_var):\n",
    "                if is_leave[i]:\n",
    "                    work_index = (is_leave * (np.arange(len(is_leave)) != i)).astype(bool)\n",
    "                    coe = np.linalg.solve(gram[work_index][:, work_index], projected[work_index])\n",
    "                    square_err[i] = (response_square\n",
    "                                     - (coe * projected[work_index]).sum(axis=0) \n",
    "                                     - self.regularizer * np.square(coe).sum(axis=0)\n",
    "                                    ).sum()\n",
    "            \n",
    "            is_leave[np.argmin(square_err)] = False\n",
    "        \n",
    "        rms = square_err.min()/(self.regressor.shape[0] - is_leave.sum())\n",
    "        coe = np.linalg.solve(gram[is_leave][:, is_leave], projected[is_leave])\n",
    "        if self.has_bias:\n",
    "            return is_leave[:-1], coe[:-1], coe[-1].reshape(1, -1), rms\n",
    "        else:\n",
    "            return is_leave, coe, np.zeros((1, self.num_var)), rms\n",
    "    \n",
    "    def quick_drop_useless_one(self):\n",
    "        # Use PCA to find 1 useless variable\n",
    "        # It can't guarantee that finding the most useless 1\n",
    "        if self.has_bias:\n",
    "            linear_trans, _, _, _ = np.linalg.lstsq(self.regressor, self.response, rcond=-1)\n",
    "            centralized_data = self.regressor[:, :-1] - self.regressor[:, :-1].mean(axis=0)\n",
    "            cori, conp = np.linalg.eigh(np.dot(centralized_data.T, centralized_data))\n",
    "            cori /= self.regressor.shape[0] - self.regressor.shape[1]\n",
    "            error_bound = 1/(np.square(conp) + 0.000000001)\n",
    "            error_bound *= cori\n",
    "            error_bound = error_bound.min(axis=1)\n",
    "            error_bound *= np.linalg.norm(linear_trans[:-1], axis=1)**2\n",
    "            drop = error_bound.argmin()\n",
    "            \n",
    "            is_leave = (np.arange(self.regressor.shape[1]) != drop)\n",
    "            \n",
    "            gram = np.dot(self.regressor.T, self.regressor)\n",
    "            gram += self.regularizer * self.regressor.shape[0] * np.identity(self.regressor.shape[1])\n",
    "            projected = np.dot(self.regressor.T, self.response)\n",
    "            response_square = np.square(self.response).sum(axis=0)\n",
    "            \n",
    "            coe = np.linalg.solve(gram[is_leave][:, is_leave], projected[is_leave])\n",
    "            square_err = (response_square\n",
    "                             - (coe * projected[is_leave]).sum(axis=0) \n",
    "                             - self.regularizer * np.square(coe).sum(axis=0)\n",
    "                            ).sum()\n",
    "            \n",
    "            rms = square_err/(self.regressor.shape[0] - is_leave.sum())\n",
    "            return is_leave[:-1], coe[:-1], coe[-1].reshape(1, -1), rms\n",
    "        \n",
    "        else:\n",
    "            raise ValueError(\"Quick drop only work for case with bias\")"
   ]
  },
  {
   "cell_type": "code",
   "execution_count": 4,
   "metadata": {
    "collapsed": true
   },
   "outputs": [],
   "source": [
    "data = np.random.normal(0, 1, (1000000,4))\n",
    "prin = np.array([[0, 0, 1, 0], [0, 0, 0, 1], [0.8, 0.6, 0, 0], [0.6, -0.8, 0, 0]])\n",
    "data = np.dot(data, np.diag([2, 1.1, 1., 1.5]))\n",
    "data = np.dot(data, prin)"
   ]
  },
  {
   "cell_type": "code",
   "execution_count": 5,
   "metadata": {},
   "outputs": [
    {
     "data": {
      "text/plain": [
       "(array([1.0016494 , 1.20928421, 2.2561086 , 4.00593953]),\n",
       " array([[ 7.98864243e-01,  1.05697489e-03, -6.01508457e-01,\n",
       "         -1.54313906e-03],\n",
       "        [ 6.01505663e-01,  2.88082748e-03,  7.98862325e-01,\n",
       "          1.27446690e-03],\n",
       "        [-4.66056718e-04, -3.82241702e-05,  1.94640575e-03,\n",
       "         -9.99997996e-01],\n",
       "        [-2.57724344e-03,  9.99995291e-01, -1.66553864e-03,\n",
       "         -4.02647432e-05]]))"
      ]
     },
     "execution_count": 5,
     "metadata": {},
     "output_type": "execute_result"
    }
   ],
   "source": [
    "np.linalg.eigh(np.dot(data.T, data)/1000000)"
   ]
  },
  {
   "cell_type": "code",
   "execution_count": 6,
   "metadata": {},
   "outputs": [
    {
     "data": {
      "text/plain": [
       "(array([False,  True,  True, False]),\n",
       " array([[-3.34473394e-01,  9.99999447e-01,  1.95554557e-09,\n",
       "         -5.94729810e-04],\n",
       "        [ 6.33484295e-04, -6.73787209e-10,  9.99999750e-01,\n",
       "          2.70446056e-05]]),\n",
       " array([[0.99833356, 1.999998  , 2.999997  , 4.00059338]]),\n",
       " 2.4632334031640264)"
      ]
     },
     "execution_count": 6,
     "metadata": {},
     "output_type": "execute_result"
    }
   ],
   "source": [
    "myLR = LinearRegression(data, data + np.array([1,2,3,4]))\n",
    "\n",
    "myLR.most_useless_analysis(2)"
   ]
  },
  {
   "cell_type": "code",
   "execution_count": 7,
   "metadata": {},
   "outputs": [
    {
     "data": {
      "text/plain": [
       "(array([ True,  True,  True, False]),\n",
       " array([[ 9.99999201e-01, -2.69400676e-07, -3.47938420e-09,\n",
       "          8.92468671e-04],\n",
       "        [-2.66450012e-07,  9.99999357e-01,  7.91784128e-10,\n",
       "         -2.96222784e-04],\n",
       "        [ 2.99162715e-10, -5.03126056e-10,  9.99999750e-01,\n",
       "          2.64792406e-05]]),\n",
       " array([[0.999999  , 1.999998  , 2.999997  , 4.00059487]]),\n",
       " 1.209321589418169)"
      ]
     },
     "execution_count": 7,
     "metadata": {},
     "output_type": "execute_result"
    }
   ],
   "source": [
    "myLR.quick_drop_useless_one()"
   ]
  },
  {
   "cell_type": "markdown",
   "metadata": {},
   "source": [
    "# pytorch version"
   ]
  },
  {
   "cell_type": "code",
   "execution_count": 8,
   "metadata": {
    "collapsed": true
   },
   "outputs": [],
   "source": [
    "import numpy as np\n",
    "import torch\n",
    "from torch.autograd import Variable\n",
    "\n",
    "torch.set_default_tensor_type(torch.FloatTensor)"
   ]
  },
  {
   "cell_type": "code",
   "execution_count": 9,
   "metadata": {
    "collapsed": true
   },
   "outputs": [],
   "source": [
    "def np2torch(numpy_array, torch_type = None):\n",
    "    if torch_type is None:\n",
    "        torch_type = torch.get_default_dtype()\n",
    "    return torch.from_numpy(numpy_array).type(torch_type)\n",
    "\n",
    "def to_32(x):\n",
    "    return x.type(torch.FloatTensor)\n",
    "\n",
    "def to_64(x):\n",
    "    return x.type(torch.DoubleTensor)\n",
    "\n",
    "def two_square_trace(A, B):\n",
    "    # find tr(AB)\n",
    "    # see https://github.com/Dogiko/Some-Tools\n",
    "    return A.view(1,-1).mm(B.t().contiguous().view(-1,1)).view(())\n",
    "\n",
    "def pos_gram(gram, regularlizer = None):\n",
    "    _type = gram.type()\n",
    "    _size = len(gram)\n",
    "    if regularlizer is None:\n",
    "        if gram.abs().max() == 0:\n",
    "            raise ValueError(\"gram error, expect matrix with none-zero element\")\n",
    "        \n",
    "        # the fraction of float32 is 2**(-23)~10**(-7) we start with 10**(-7) times of maximun element\n",
    "        regularlizer = gram.abs().max()*0.0000001\n",
    "    \n",
    "    if regularlizer <= 0:\n",
    "        raise ValueError(\"regularlizer error, expect positive, got %s\" %(regularlizer))\n",
    "    \n",
    "    while True:\n",
    "        lambdas, vectors = torch.symeig(gram + regularlizer*torch.eye(_size).type(_type))\n",
    "        if lambdas.min() > 0:\n",
    "            break\n",
    "        \n",
    "        regularlizer *= 2.\n",
    "    \n",
    "    return gram + regularlizer*torch.eye(_size).type(_type)\n",
    "\n",
    "class LinearRefiner():\n",
    "    def __init__(self, linearModel, regularizer = None):\n",
    "        self.set_model(linearModel)\n",
    "        self.set_regularizer(regularizer)\n",
    "    \n",
    "    def set_model(self, linearModel):\n",
    "        if type(linearModel) != torch.nn.Linear:\n",
    "            raise TypeError(\"linearModel type error, got, expect torch.nn.Linear\")\n",
    "        \n",
    "        self.model_weight = linearModel.weight.data\n",
    "        self.model_bias = linearModel.bias.data\n",
    "        self.in_features = linearModel.in_features\n",
    "        self.reset()\n",
    "    \n",
    "    def set_regularizer(self, regularizer):\n",
    "        self.regularizer = regularizer\n",
    "    \n",
    "    def reset(self):\n",
    "        self.datums_acc = 0\n",
    "        self.gram = torch.zeros((self.in_features+1, self.in_features+1))\n",
    "    \n",
    "    def data_input(self, data):\n",
    "        datums = data.size()[0]\n",
    "        expand = torch.cat((data, torch.ones((datums, 1))), 1)\n",
    "        self.gram += torch.mm(expand.t(), expand)\n",
    "        self.datums_acc += datums\n",
    "    \n",
    "    def drop_error(self, estimate = False):\n",
    "        # return errors of drop each regressor\n",
    "        # if estimate = True, using PCA get upper-bound of errors\n",
    "        expand_model = to_64(torch.cat((self.model_weight, self.model_bias.view(-1,1)), 1).t())\n",
    "        mean_gram = pos_gram(to_64(self.gram / self.datums_acc), self.regularizer) # avoid singular gram\n",
    "        res_ms = two_square_trace(expand_model.mm(expand_model.t()), mean_gram) # mean of square sum of y = xA\n",
    "        if estimate:\n",
    "            unbiased_gram = pos_gram(mean_gram[:-1, :-1] - torch.mm(mean_gram[:-1, -1:], mean_gram[-1:, :-1]))\n",
    "            cori, comp = torch.symeig(unbiased_gram, eigenvectors=True) # PCA\n",
    "            error_bound = 1/(0.0000001 + comp**2) # 0.0000001 for stability, avoid divide zero\n",
    "            error_bound *= cori\n",
    "            error_bound = error_bound.min(1)[0]*((expand_model[:-1]**2).sum(1)) # square-norm for weight without bias\n",
    "            \n",
    "            error_bound = to_32(error_bound)\n",
    "            res_ms = to_32(res_ms)\n",
    "            return error_bound, res_ms\n",
    "        else:\n",
    "            errors = to_64(torch.zeros((len(mean_gram)-1)))\n",
    "            _idx = list(range(self.in_features + 1))\n",
    "            for p in range(len(mean_gram)-1):\n",
    "                drop_p_idx = _idx[:p] + _idx[p+1:]\n",
    "                subgram = mean_gram[drop_p_idx][:, drop_p_idx]\n",
    "                new_model = torch.gesv(mean_gram[drop_p_idx, : ].mm(expand_model), subgram)[0]\n",
    "                errors[p] = res_ms - two_square_trace(new_model.mm(new_model.t()), subgram)\n",
    "            \n",
    "            errors = to_32(errors)\n",
    "            res_ms = to_32(res_ms)\n",
    "            return errors, res_ms\n",
    "    \n",
    "    def refine(self, drop = 1, quick = True):\n",
    "        if self.datums_acc == 0:\n",
    "            raise ValueError(\".datums_acc == 0, must input data before refine.\")\n",
    "        \n",
    "        leave_idx = list(range(self.in_features + 1)) # +1 for bias\n",
    "        expand_model = to_64(torch.cat((self.model_weight, self.model_bias.view(-1,1)), 1).t())\n",
    "        mean_gram = pos_gram(to_64(self.gram / self.datums_acc), self.regularizer)\n",
    "        # avoid singular gram\n",
    "        res_ms = two_square_trace(expand_model.mm(expand_model.t()), mean_gram) # mean of square sum of y = xA\n",
    "        if quick:\n",
    "            new_model = expand_model.clone()\n",
    "            for d in range(drop):\n",
    "                subgram = mean_gram[leave_idx][:, leave_idx]\n",
    "                unbiased_subgram = pos_gram(subgram[:-1, :-1] - torch.mm(subgram[:-1, -1:], subgram[-1:, :-1]))\n",
    "                cori, comp = torch.symeig(unbiased_subgram, eigenvectors=True) # PCA\n",
    "                error_bound = 1/(0.000000000000001 + comp**2) # 0.000000000000001 for stability, avoid divide zero\n",
    "                error_bound *= cori\n",
    "                error_bound = error_bound.min(1)[0]*((new_model[:-1]**2).sum(1)) # square-norm for weight without bias\n",
    "                pos = error_bound.min(0)[1] # argmin for bound, position for variable should be remove in leave index\n",
    "                leave_pos = list(range(len(leave_idx))) # leave_idx for leave_idx\n",
    "                leave_pos.remove(pos)\n",
    "                drop_p_gram = subgram[leave_pos][:, leave_pos]\n",
    "                # ridge regrassion : linear regression with regularlizer, guaranty existence of only one minimun\n",
    "                new_model = torch.gesv(subgram[leave_pos, : ].mm(new_model), drop_p_gram)[0]\n",
    "                leave_idx = leave_idx[:pos] + leave_idx[pos+1:] # update leave_idx\n",
    "            \n",
    "            mse = res_ms - two_square_trace(new_model.mm(new_model.t()), mean_gram[leave_idx][:, leave_idx])\n",
    "        else:\n",
    "            for d in range(drop):\n",
    "                leave_err = torch.zeros((len(leave_idx)-1))\n",
    "                for p in range(len(leave_idx)-1):\n",
    "                    drop_p_idx = leave_idx[:p] + leave_idx[p+1:]\n",
    "                    drop_p_gram = mean_gram[drop_p_idx][:, drop_p_idx]\n",
    "                    new_model = torch.gesv(mean_gram[drop_p_idx, : ].mm(expand_model), drop_p_gram)[0]\n",
    "                    leave_err[p] = res_ms - two_square_trace(new_model.mm(new_model.t()), drop_p_gram)\n",
    "                \n",
    "                mse, pos = leave_err.min(0)\n",
    "                leave_idx = leave_idx[:pos] + leave_idx[pos+1:]\n",
    "            \n",
    "            subgram = mean_gram[leave_idx][:, leave_idx]\n",
    "            new_model = torch.gesv(mean_gram[leave_idx, : ].mm(expand_model), subgram)[0]\n",
    "        \n",
    "        # mean square error\n",
    "        \n",
    "        new_model = to_32(new_model)\n",
    "        mse = to_32(mse)\n",
    "        res_ms = to_32(res_ms)\n",
    "        return leave_idx[:-1], new_model[:-1].t(), new_model[-1].view((-1)), mse, res_ms"
   ]
  },
  {
   "cell_type": "code",
   "execution_count": 10,
   "metadata": {},
   "outputs": [
    {
     "data": {
      "text/plain": [
       "([0, 1, 2], tensor([[ 1.0000,  0.0000,  0.0000],\n",
       "         [ 0.0000,  1.0000,  0.0000],\n",
       "         [ 0.0000,  0.0000,  1.0000],\n",
       "         [-0.0005, -0.0004, -0.0000]]), tensor([1.0000, 2.0000, 3.0000, 4.0000]), tensor(1.2077), tensor(38.4530))"
      ]
     },
     "execution_count": 10,
     "metadata": {},
     "output_type": "execute_result"
    }
   ],
   "source": [
    "data = np2torch(np.random.normal(0, 1, (1000000, 4)))\n",
    "prin = np2torch(np.array([[0, 0, 1, 0], [0, 0, 0, 1], [0.8, 0.6, 0, 0], [0.6, -0.8, 0, 0]]))\n",
    "data = data.mm(torch.diag(torch.Tensor([2., 1.1, 1., 1.5]))).mm(prin)\n",
    "linear = torch.nn.modules.Linear(4, 4, bias=True)\n",
    "linear.weight.data = torch.eye(4)\n",
    "linear.bias.data = torch.Tensor([1, 2, 3, 4])\n",
    "my_linear_refiner = LinearRefiner(linear)\n",
    "my_linear_refiner.data_input(data)\n",
    "\n",
    "my_linear_refiner.refine(1)"
   ]
  },
  {
   "cell_type": "code",
   "execution_count": 11,
   "metadata": {},
   "outputs": [
    {
     "name": "stdout",
     "output_type": "stream",
     "text": [
      "(tensor([1.2482, 1.5515, 3.9893, 1.2077]), tensor(38.4530))\n",
      "(tensor([1.5591, 2.7817, 3.9893, 1.2077]), tensor(38.4530))\n",
      "tensor(0.0314)\n"
     ]
    }
   ],
   "source": [
    "print(my_linear_refiner.drop_error())\n",
    "print(my_linear_refiner.drop_error(estimate=True))\n",
    "print(my_linear_refiner.refine(1)[3]/(linear(data).data**2).mean(0).sum())"
   ]
  },
  {
   "cell_type": "code",
   "execution_count": 12,
   "metadata": {},
   "outputs": [
    {
     "data": {
      "text/plain": [
       "([1, 2], tensor([[-0.3330,  0.0009],\n",
       "         [ 1.0000,  0.0000],\n",
       "         [ 0.0000,  1.0000],\n",
       "         [-0.0002, -0.0000]]), tensor([1.0009, 2.0000, 3.0000, 4.0000]), tensor(2.4559), tensor(38.4530))"
      ]
     },
     "execution_count": 12,
     "metadata": {},
     "output_type": "execute_result"
    }
   ],
   "source": [
    "my_linear_refiner.refine(2)"
   ]
  },
  {
   "cell_type": "code",
   "execution_count": 13,
   "metadata": {},
   "outputs": [
    {
     "data": {
      "text/plain": [
       "([0, 1, 2], tensor([[ 1.0000,  0.0000,  0.0000],\n",
       "         [ 0.0000,  1.0000,  0.0000],\n",
       "         [ 0.0000,  0.0000,  1.0000],\n",
       "         [-0.0005, -0.0004, -0.0000]]), tensor([1.0000, 2.0000, 3.0000, 4.0000]), tensor(1.2077), tensor(38.4530))"
      ]
     },
     "execution_count": 13,
     "metadata": {},
     "output_type": "execute_result"
    }
   ],
   "source": [
    "my_linear_refiner.refine(1, quick=False)"
   ]
  },
  {
   "cell_type": "code",
   "execution_count": 15,
   "metadata": {},
   "outputs": [
    {
     "data": {
      "text/plain": [
       "([0, 1, 2], tensor([[ 1.0000e+00,  4.1369e-17, -1.0871e-19],\n",
       "         [-7.6685e-17,  1.0000e+00, -2.1742e-19],\n",
       "         [-5.7854e-20, -1.3976e-19,  1.0000e+00],\n",
       "         [-5.2154e-04, -3.6115e-04, -3.1210e-05]]), tensor([1.0000, 2.0000, 3.0000, 4.0000]), tensor(1.2077), tensor(38.4530))"
      ]
     },
     "execution_count": 15,
     "metadata": {},
     "output_type": "execute_result"
    }
   ],
   "source": [
    "my_linear_refiner.reset()\n",
    "my_linear_refiner.data_input(data[:1000])\n",
    "my_linear_refiner.data_input(data[1000:])\n",
    "\n",
    "my_linear_refiner.refine(1)"
   ]
  },
  {
   "cell_type": "markdown",
   "metadata": {},
   "source": [
    "# Compare"
   ]
  },
  {
   "cell_type": "code",
   "execution_count": 16,
   "metadata": {
    "collapsed": true
   },
   "outputs": [],
   "source": [
    "x = np.random.normal(0, 1, (10000,5))\n",
    "b = np.random.normal(0, 1, (2))\n",
    "A = np.random.normal(0, 1, (2,5))\n",
    "y = np.dot(x, A.T) + b"
   ]
  },
  {
   "cell_type": "code",
   "execution_count": 17,
   "metadata": {},
   "outputs": [
    {
     "data": {
      "text/plain": [
       "(array([ True,  True,  True,  True, False]), array([[-0.47370461,  1.0729814 ],\n",
       "        [ 0.63462901, -0.30281068],\n",
       "        [-1.15664563,  0.55470661],\n",
       "        [ 0.56363912,  0.4343164 ]]), array([[ 0.40931801, -0.46809887]]), 0.03877764965096857)"
      ]
     },
     "execution_count": 17,
     "metadata": {},
     "output_type": "execute_result"
    }
   ],
   "source": [
    "myLR = LinearRegression(x, y)\n",
    "\n",
    "myLR.quick_drop_useless_one()"
   ]
  },
  {
   "cell_type": "code",
   "execution_count": 18,
   "metadata": {},
   "outputs": [
    {
     "data": {
      "text/plain": [
       "(array([ True, False,  True,  True, False]), array([[-0.47752537,  1.07480446],\n",
       "        [-1.16679318,  0.55954847],\n",
       "        [ 0.56126137,  0.43545093]]), array([[ 0.41305917, -0.46988396]]), 0.5363484826459067)"
      ]
     },
     "execution_count": 18,
     "metadata": {},
     "output_type": "execute_result"
    }
   ],
   "source": [
    "myLR.most_useless_analysis(2)"
   ]
  },
  {
   "cell_type": "code",
   "execution_count": 19,
   "metadata": {},
   "outputs": [
    {
     "data": {
      "text/plain": [
       "([0, 1, 2, 3], tensor([[-0.4737,  0.6346, -1.1566,  0.5636],\n",
       "         [ 1.0730, -0.3028,  0.5547,  0.4343]]), tensor([ 0.4093, -0.4681]), tensor(0.0388), tensor(4.5471))"
      ]
     },
     "execution_count": 19,
     "metadata": {},
     "output_type": "execute_result"
    }
   ],
   "source": [
    "linear = torch.nn.modules.Linear(5,2,bias=True)\n",
    "linear.weight.data = np2torch(A)\n",
    "linear.bias.data = np2torch(b)\n",
    "my_linear_refiner = LinearRefiner(linear)\n",
    "my_linear_refiner.data_input(np2torch(x))\n",
    "\n",
    "my_linear_refiner.refine(1)"
   ]
  },
  {
   "cell_type": "code",
   "execution_count": 20,
   "metadata": {},
   "outputs": [
    {
     "data": {
      "text/plain": [
       "([0, 1, 2], tensor([[-0.4772,  0.6325, -1.1547],\n",
       "         [ 1.0703, -0.3045,  0.5562]]), tensor([ 0.4108, -0.4669]), tensor(0.5540), tensor(4.5471))"
      ]
     },
     "execution_count": 20,
     "metadata": {},
     "output_type": "execute_result"
    }
   ],
   "source": [
    "my_linear_refiner.refine(2)"
   ]
  },
  {
   "cell_type": "code",
   "execution_count": 21,
   "metadata": {},
   "outputs": [
    {
     "data": {
      "text/plain": [
       "([0, 2, 3], tensor([[-0.4775, -1.1668,  0.5613],\n",
       "         [ 1.0748,  0.5595,  0.4355]]), tensor([ 0.4131, -0.4699]), tensor(0.5361), tensor(4.5471))"
      ]
     },
     "execution_count": 21,
     "metadata": {},
     "output_type": "execute_result"
    }
   ],
   "source": [
    "my_linear_refiner.refine(2, quick=False)"
   ]
  },
  {
   "cell_type": "markdown",
   "metadata": {
    "collapsed": true
   },
   "source": [
    "# Differen between PCA and Linear Regrassion"
   ]
  },
  {
   "cell_type": "code",
   "execution_count": 19,
   "metadata": {
    "collapsed": true
   },
   "outputs": [],
   "source": [
    "foo = np.zeros((10,2))\n",
    "foo[:8] = np.dot(0.5*(np.arange(8) - 3.5).reshape(8,1), np.array([[0.8, 0.6]]))\n",
    "foo[8:] = np.dot((np.arange(2) - 0.5).reshape(2,1), np.array([[-0.6, 0.8]]))"
   ]
  },
  {
   "cell_type": "code",
   "execution_count": 20,
   "metadata": {
    "collapsed": true
   },
   "outputs": [],
   "source": [
    "import matplotlib.pyplot as plt"
   ]
  },
  {
   "cell_type": "code",
   "execution_count": 21,
   "metadata": {},
   "outputs": [
    {
     "data": {
      "image/png": "[encoded data removed]",
      "text/plain": [
       "<matplotlib.figure.Figure at 0x111761b38>"
      ]
     },
     "metadata": {},
     "output_type": "display_data"
    }
   ],
   "source": [
    "plt.plot(foo[:,0], foo[:,1], \"bp\")\n",
    "plt.show()"
   ]
  },
  {
   "cell_type": "code",
   "execution_count": 22,
   "metadata": {},
   "outputs": [
    {
     "data": {
      "image/png": "[encoded data removed]",
      "text/plain": [
       "<matplotlib.figure.Figure at 0x11180dd30>"
      ]
     },
     "metadata": {},
     "output_type": "display_data"
    }
   ],
   "source": [
    "x2y = np.linalg.lstsq(foo[:,:1], foo[:,1:], -1)[0][0,0]\n",
    "y2x = np.linalg.lstsq(foo[:,1:], foo[:,:1], -1)[0][0,0]\n",
    "\n",
    "plt.plot(foo[:,0], foo[:,0]*0.75, \"r\")\n",
    "plt.plot(foo[:,0], foo[:,0]*x2y, \"b\")\n",
    "plt.plot(foo[:,1]*y2x, foo[:,1], \"g\")\n",
    "plt.show()"
   ]
  },
  {
   "cell_type": "code",
   "execution_count": 23,
   "metadata": {},
   "outputs": [
    {
     "data": {
      "text/plain": [
       "tensor([2., 3.])"
      ]
     },
     "execution_count": 23,
     "metadata": {},
     "output_type": "execute_result"
    }
   ],
   "source": [
    "foo = torch.Tensor([2,3])\n",
    "fooo = foo.clone()\n",
    "fooo[1] = 10\n",
    "foo"
   ]
  },
  {
   "cell_type": "code",
   "execution_count": 27,
   "metadata": {},
   "outputs": [
    {
     "data": {
      "text/plain": [
       "tensor([[1., 0., 0.],\n",
       "        [0., 1., 0.],\n",
       "        [0., 0., 1.]], dtype=torch.float64)"
      ]
     },
     "execution_count": 27,
     "metadata": {},
     "output_type": "execute_result"
    }
   ],
   "source": [
    "torch.eye(3).type(torch.eye(2).type(torch.DoubleTensor).type())"
   ]
  },
  {
   "cell_type": "code",
   "execution_count": null,
   "metadata": {
    "collapsed": true
   },
   "outputs": [],
   "source": []
  }
 ],
 "metadata": {
  "kernelspec": {
   "display_name": "Python 3",
   "language": "python",
   "name": "python3"
  },
  "language_info": {
   "codemirror_mode": {
    "name": "ipython",
    "version": 3
   },
   "file_extension": ".py",
   "mimetype": "text/x-python",
   "name": "python",
   "nbconvert_exporter": "python",
   "pygments_lexer": "ipython3",
   "version": "3.6.4"
  }
 },
 "nbformat": 4,
 "nbformat_minor": 2
}
